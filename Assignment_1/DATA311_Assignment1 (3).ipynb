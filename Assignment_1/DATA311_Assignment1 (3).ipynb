{
 "cells": [
  {
   "cell_type": "markdown",
   "id": "0185f0fb-ebbc-43dc-a881-be6ed477dc6f",
   "metadata": {},
   "source": [
    "## Databases - Fall 2022\n",
    "### Assignment 1 - due Thursday, Sep 22 by midnight \n",
    "\n",
    "**Please make sure to submit the completed notebook in PDF format, and double check to ensure that all code, etc. is legible!**"
   ]
  },
  {
   "cell_type": "code",
   "execution_count": 1,
   "id": "daa6887d-8e8d-411c-9b26-dde72706867f",
   "metadata": {},
   "outputs": [],
   "source": [
    "import pandas as pd\n",
    "import numpy as np"
   ]
  },
  {
   "cell_type": "markdown",
   "id": "60fe2c6a-84b5-4f74-aa7d-694a99b4d131",
   "metadata": {},
   "source": [
    "---\n",
    "1) Using the same gapminder data from class, find all instances where the population of a country declined over two consecutive data points (i.e., 5-year intervals).  \n",
    "\n",
    "Print the number of instances, and below that, print your results as a list of lists in the following format:"
   ]
  },
  {
   "cell_type": "code",
   "execution_count": 2,
   "id": "a277949e-e1d3-488b-93df-d499a68d9160",
   "metadata": {},
   "outputs": [
    {
     "data": {
      "text/html": [
       "<div>\n",
       "<style scoped>\n",
       "    .dataframe tbody tr th:only-of-type {\n",
       "        vertical-align: middle;\n",
       "    }\n",
       "\n",
       "    .dataframe tbody tr th {\n",
       "        vertical-align: top;\n",
       "    }\n",
       "\n",
       "    .dataframe thead th {\n",
       "        text-align: right;\n",
       "    }\n",
       "</style>\n",
       "<table border=\"1\" class=\"dataframe\">\n",
       "  <thead>\n",
       "    <tr style=\"text-align: right;\">\n",
       "      <th></th>\n",
       "      <th>country</th>\n",
       "      <th>continent</th>\n",
       "      <th>year</th>\n",
       "      <th>lifeExp</th>\n",
       "      <th>pop</th>\n",
       "      <th>gdpPercap</th>\n",
       "    </tr>\n",
       "  </thead>\n",
       "  <tbody>\n",
       "    <tr>\n",
       "      <th>0</th>\n",
       "      <td>Afghanistan</td>\n",
       "      <td>Asia</td>\n",
       "      <td>1952</td>\n",
       "      <td>28.801</td>\n",
       "      <td>8425333</td>\n",
       "      <td>779.445314</td>\n",
       "    </tr>\n",
       "    <tr>\n",
       "      <th>1</th>\n",
       "      <td>Afghanistan</td>\n",
       "      <td>Asia</td>\n",
       "      <td>1957</td>\n",
       "      <td>30.332</td>\n",
       "      <td>9240934</td>\n",
       "      <td>820.853030</td>\n",
       "    </tr>\n",
       "    <tr>\n",
       "      <th>2</th>\n",
       "      <td>Afghanistan</td>\n",
       "      <td>Asia</td>\n",
       "      <td>1962</td>\n",
       "      <td>31.997</td>\n",
       "      <td>10267083</td>\n",
       "      <td>853.100710</td>\n",
       "    </tr>\n",
       "    <tr>\n",
       "      <th>3</th>\n",
       "      <td>Afghanistan</td>\n",
       "      <td>Asia</td>\n",
       "      <td>1967</td>\n",
       "      <td>34.020</td>\n",
       "      <td>11537966</td>\n",
       "      <td>836.197138</td>\n",
       "    </tr>\n",
       "    <tr>\n",
       "      <th>4</th>\n",
       "      <td>Afghanistan</td>\n",
       "      <td>Asia</td>\n",
       "      <td>1972</td>\n",
       "      <td>36.088</td>\n",
       "      <td>13079460</td>\n",
       "      <td>739.981106</td>\n",
       "    </tr>\n",
       "    <tr>\n",
       "      <th>5</th>\n",
       "      <td>Afghanistan</td>\n",
       "      <td>Asia</td>\n",
       "      <td>1977</td>\n",
       "      <td>38.438</td>\n",
       "      <td>14880372</td>\n",
       "      <td>786.113360</td>\n",
       "    </tr>\n",
       "    <tr>\n",
       "      <th>6</th>\n",
       "      <td>Afghanistan</td>\n",
       "      <td>Asia</td>\n",
       "      <td>1982</td>\n",
       "      <td>39.854</td>\n",
       "      <td>12881816</td>\n",
       "      <td>978.011439</td>\n",
       "    </tr>\n",
       "    <tr>\n",
       "      <th>7</th>\n",
       "      <td>Afghanistan</td>\n",
       "      <td>Asia</td>\n",
       "      <td>1987</td>\n",
       "      <td>40.822</td>\n",
       "      <td>13867957</td>\n",
       "      <td>852.395945</td>\n",
       "    </tr>\n",
       "  </tbody>\n",
       "</table>\n",
       "</div>"
      ],
      "text/plain": [
       "       country continent  year  lifeExp       pop   gdpPercap\n",
       "0  Afghanistan      Asia  1952   28.801   8425333  779.445314\n",
       "1  Afghanistan      Asia  1957   30.332   9240934  820.853030\n",
       "2  Afghanistan      Asia  1962   31.997  10267083  853.100710\n",
       "3  Afghanistan      Asia  1967   34.020  11537966  836.197138\n",
       "4  Afghanistan      Asia  1972   36.088  13079460  739.981106\n",
       "5  Afghanistan      Asia  1977   38.438  14880372  786.113360\n",
       "6  Afghanistan      Asia  1982   39.854  12881816  978.011439\n",
       "7  Afghanistan      Asia  1987   40.822  13867957  852.395945"
      ]
     },
     "execution_count": 2,
     "metadata": {},
     "output_type": "execute_result"
    }
   ],
   "source": [
    "gapdf = pd.read_csv('gapminder.tsv', sep = '\\t')\n",
    "gapdf.head(8)"
   ]
  },
  {
   "cell_type": "code",
   "execution_count": 3,
   "id": "67738833-ec9d-4061-b452-4dfc3a7e315b",
   "metadata": {},
   "outputs": [
    {
     "data": {
      "text/html": [
       "<div>\n",
       "<style scoped>\n",
       "    .dataframe tbody tr th:only-of-type {\n",
       "        vertical-align: middle;\n",
       "    }\n",
       "\n",
       "    .dataframe tbody tr th {\n",
       "        vertical-align: top;\n",
       "    }\n",
       "\n",
       "    .dataframe thead th {\n",
       "        text-align: right;\n",
       "    }\n",
       "</style>\n",
       "<table border=\"1\" class=\"dataframe\">\n",
       "  <thead>\n",
       "    <tr style=\"text-align: right;\">\n",
       "      <th></th>\n",
       "      <th>country</th>\n",
       "      <th>continent</th>\n",
       "      <th>year</th>\n",
       "      <th>lifeExp</th>\n",
       "      <th>pop</th>\n",
       "      <th>gdpPercap</th>\n",
       "      <th>popchange</th>\n",
       "    </tr>\n",
       "  </thead>\n",
       "  <tbody>\n",
       "    <tr>\n",
       "      <th>0</th>\n",
       "      <td>Afghanistan</td>\n",
       "      <td>Asia</td>\n",
       "      <td>1952</td>\n",
       "      <td>28.801</td>\n",
       "      <td>8425333</td>\n",
       "      <td>779.445314</td>\n",
       "      <td>0</td>\n",
       "    </tr>\n",
       "    <tr>\n",
       "      <th>1</th>\n",
       "      <td>Afghanistan</td>\n",
       "      <td>Asia</td>\n",
       "      <td>1957</td>\n",
       "      <td>30.332</td>\n",
       "      <td>9240934</td>\n",
       "      <td>820.853030</td>\n",
       "      <td>815601</td>\n",
       "    </tr>\n",
       "    <tr>\n",
       "      <th>2</th>\n",
       "      <td>Afghanistan</td>\n",
       "      <td>Asia</td>\n",
       "      <td>1962</td>\n",
       "      <td>31.997</td>\n",
       "      <td>10267083</td>\n",
       "      <td>853.100710</td>\n",
       "      <td>1026149</td>\n",
       "    </tr>\n",
       "  </tbody>\n",
       "</table>\n",
       "</div>"
      ],
      "text/plain": [
       "       country continent  year  lifeExp       pop   gdpPercap  popchange\n",
       "0  Afghanistan      Asia  1952   28.801   8425333  779.445314          0\n",
       "1  Afghanistan      Asia  1957   30.332   9240934  820.853030     815601\n",
       "2  Afghanistan      Asia  1962   31.997  10267083  853.100710    1026149"
      ]
     },
     "execution_count": 3,
     "metadata": {},
     "output_type": "execute_result"
    }
   ],
   "source": [
    "popchange = [0]\n",
    "popchange =popchange + list(np.diff(gapdf['pop']))\n",
    "gapdf['popchange'] = popchange #get population change, 0 at index one to equal lengths\n",
    "gapdf.head(3)"
   ]
  },
  {
   "cell_type": "code",
   "execution_count": 4,
   "id": "9c8e83c8-6db3-471a-96d3-120dd7d4447b",
   "metadata": {},
   "outputs": [],
   "source": [
    "newdf = gapdf[gapdf['popchange'] <0] #when pop change is negative\n",
    "newdf = newdf[newdf['year'] > 1952] # discard 2017 to 1952 pop changes\n",
    "idx = newdf.index \n",
    "yeardf = gapdf.iloc[idx - 1] #grab index before pop change to get the year\n",
    "#yeardf['year']"
   ]
  },
  {
   "cell_type": "code",
   "execution_count": 8,
   "id": "524b734b-6ca3-48ad-be7c-cc9990d9624c",
   "metadata": {},
   "outputs": [
    {
     "name": "stdout",
     "output_type": "stream",
     "text": [
      "Number of results : 46\n"
     ]
    },
    {
     "data": {
      "text/plain": [
       "[['Afghanistan', [1977, 1982], -1998556],\n",
       " ['Bosnia and Herzegovina', [1987, 1992], -82964],\n",
       " ['Bosnia and Herzegovina', [1992, 1997], -649013],\n",
       " ['Bulgaria', [1987, 1992], -313452],\n",
       " ['Bulgaria', [1992, 1997], -592449],\n",
       " ['Bulgaria', [1997, 2002], -404258],\n",
       " ['Bulgaria', [2002, 2007], -338941],\n",
       " ['Cambodia', [1972, 1977], -471999],\n",
       " ['Croatia', [1992, 1997], -49418],\n",
       " ['Czech Republic', [1992, 1997], -14995],\n",
       " ['Czech Republic', [1997, 2002], -44412],\n",
       " ['Czech Republic', [2002, 2007], -27551],\n",
       " ['Equatorial Guinea', [1972, 1977], -84928],\n",
       " ['Germany', [1972, 1977], -556315],\n",
       " ['Germany', [1982, 1987], -616968],\n",
       " ['Guinea-Bissau', [1962, 1967], -26533],\n",
       " ['Hungary', [1982, 1987], -92795],\n",
       " ['Hungary', [1987, 1992], -264056],\n",
       " ['Hungary', [1992, 1997], -104000],\n",
       " ['Hungary', [1997, 2002], -161371],\n",
       " ['Hungary', [2002, 2007], -127205],\n",
       " ['Ireland', [1952, 1957], -73936],\n",
       " ['Ireland', [1957, 1962], -48220],\n",
       " ['Kuwait', [1987, 1992], -473392],\n",
       " ['Lebanon', [1977, 1982], -28911],\n",
       " ['Lesotho', [2002, 2007], -34123],\n",
       " ['Liberia', [1987, 1992], -356440],\n",
       " ['Montenegro', [2002, 2007], -35494],\n",
       " ['Poland', [1997, 2002], -28981],\n",
       " ['Poland', [2002, 2007], -107735],\n",
       " ['Portugal', [1967, 1972], -132550],\n",
       " ['Romania', [1992, 1997], -234569],\n",
       " ['Romania', [1997, 2002], -158121],\n",
       " ['Romania', [2002, 2007], -128281],\n",
       " ['Rwanda', [1992, 1997], -77620],\n",
       " ['Serbia', [1997, 2002], -225035],\n",
       " ['Slovenia', [1997, 2002], -115],\n",
       " ['Slovenia', [2002, 2007], -2252],\n",
       " ['Somalia', [1987, 1992], -822059],\n",
       " ['South Africa', [2002, 2007], -435794],\n",
       " ['Switzerland', [1972, 1977], -84976],\n",
       " ['Trinidad and Tobago', [1987, 1992], -7667],\n",
       " ['Trinidad and Tobago', [1992, 1997], -45568],\n",
       " ['Trinidad and Tobago', [1997, 2002], -36269],\n",
       " ['Trinidad and Tobago', [2002, 2007], -45224],\n",
       " ['West Bank and Gaza', [1967, 1972], -53064]]"
      ]
     },
     "execution_count": 8,
     "metadata": {},
     "output_type": "execute_result"
    }
   ],
   "source": [
    "year1 = list(yeardf['year']) #convert to lists\n",
    "year2 = list(newdf['year'])\n",
    "country = list(newdf['country'])\n",
    "popchange = list(newdf['popchange'])\n",
    "years = list(zip(year1,year2)) #extract relevant info\n",
    "years = [list(i) for i in years] #turn to list\n",
    "print('Number of results : ' + str(len(country)))\n",
    "bad_array = list(zip(country,years,popchange))\n",
    "[list(i) for i in bad_array] #turn to list"
   ]
  },
  {
   "cell_type": "markdown",
   "id": "c862a85f-8494-440f-b6f7-22523307b710",
   "metadata": {},
   "source": [
    "Alternative to a weird list comprehension below, not for grading but for future reference."
   ]
  },
  {
   "cell_type": "code",
   "execution_count": 137,
   "id": "987d250e-4d8c-4cb6-ad97-9eab0c9cc7d6",
   "metadata": {},
   "outputs": [],
   "source": [
    "#df = pd.DataFrame(list(zip(country, years, popchange)),columns = ['Country', 'Years' , 'Change in Population'])\n",
    "#print('Number of results: ' + str(len(df)))\n",
    "#df.values.tolist()"
   ]
  },
  {
   "cell_type": "raw",
   "id": "ad0d8244-dcdc-4756-b8ff-fede7a798e60",
   "metadata": {},
   "source": [
    "[country, [year1, year2], [change in population]"
   ]
  },
  {
   "cell_type": "markdown",
   "id": "78dc6a0b-16d0-4905-8b52-4f952629a78b",
   "metadata": {},
   "source": [
    "I have included what the first 3 lines of output should look like to help you verify your results. Please make sure your output is formatted the same way!"
   ]
  },
  {
   "cell_type": "raw",
   "id": "87b2d3c5-3267-42ca-a90c-517cc1335bf5",
   "metadata": {},
   "source": [
    "Number of results: YOUR NUMBER GOES HERE\n",
    "[['Afghanistan', [1977, 1982], -1998556],\n",
    " ['Bosnia and Herzegovina', [1987, 1992], -82964],"
   ]
  },
  {
   "cell_type": "markdown",
   "id": "af77069b-89e3-489e-95b2-f7f8babca1f8",
   "metadata": {},
   "source": [
    "---\n",
    "2) What are the rules of Tidy Data?"
   ]
  },
  {
   "cell_type": "markdown",
   "id": "3752632b-1cda-4863-9bc5-25e91da01a76",
   "metadata": {},
   "source": [
    " 1) Each Variable forms a column\n",
    " 2) Each observation forms a row\n",
    " 3) Each type of observational unit forms a table"
   ]
  },
  {
   "cell_type": "markdown",
   "id": "e84626d1-d23d-413b-9433-c1c1311cba59",
   "metadata": {},
   "source": [
    "---\n",
    "3) You've been hired as a consultant to build a database for someone running a store.  They are currently keeping track of all their sales data on a spreadsheet and need some help!\n",
    "\n",
    "Following the rules of Tidy Data (i.e., conforming to 3NF and no further), determine how many tables we will need, and which columns belong on which table.  This is the first step in building what is called an **Entity Relationship Diagram** (ERD).\n",
    "\n",
    "Here are the columns of data we have, and a sample file has been included on Blackboard.\n",
    "\n",
    "- customer_id\n",
    "- name\n",
    "- address\n",
    "- city\n",
    "- state\n",
    "- zip_code\n",
    "- order_number\n",
    "- order_date\n",
    "- product_id\n",
    "- product_name\n",
    "- quantity_ordered\n",
    "- unit_price\n",
    "\n",
    "Here are some simplifying assumptions to help you decide on the right way to structure your tables:\n",
    "\n",
    "- zip codes map to a single city (in reality, there are a small number of cases of zip codes spanning 2 cities)\n",
    "- the price of our products will not change over time\n",
    "- post any other questions on Piazza!\n",
    "\n",
    "Put your answer below, in the following format:\n",
    "\n",
    "**name_of_table1**\n",
    "- column1\n",
    "- column2\n",
    "- column3\n",
    "\n",
    "**name_of_table2**\n",
    "- column1\n",
    "- column2\n",
    "\n",
    "etc."
   ]
  },
  {
   "cell_type": "markdown",
   "id": "dc5328b4-0174-44d4-9afa-4953757b3781",
   "metadata": {},
   "source": [
    "**Order**\n",
    " - order_number\n",
    " - order_date\n",
    " - product_id\n",
    " - quantity ordered\n",
    " - customer_id\n",
    " \n",
    "**Customer**\n",
    " - customer_id\n",
    " - name\n",
    " - address\n",
    " - zip_code\n",
    " \n",
    "**Zip**\n",
    " - zip_code\n",
    " - city\n",
    " - state\n",
    "\n",
    "**Product**\n",
    " - product_id\n",
    " - product_name\n",
    " - unit_price"
   ]
  },
  {
   "cell_type": "code",
   "execution_count": null,
   "id": "19193e10-daed-4e63-a7ca-65649680f2b1",
   "metadata": {},
   "outputs": [],
   "source": []
  }
 ],
 "metadata": {
  "kernelspec": {
   "display_name": "Python 3 (ipykernel)",
   "language": "python",
   "name": "python3"
  },
  "language_info": {
   "codemirror_mode": {
    "name": "ipython",
    "version": 3
   },
   "file_extension": ".py",
   "mimetype": "text/x-python",
   "name": "python",
   "nbconvert_exporter": "python",
   "pygments_lexer": "ipython3",
   "version": "3.10.6"
  }
 },
 "nbformat": 4,
 "nbformat_minor": 5
}
