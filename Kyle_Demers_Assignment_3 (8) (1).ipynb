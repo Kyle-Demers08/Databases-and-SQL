{
 "cells": [
  {
   "cell_type": "markdown",
   "id": "83486162-585a-4f75-876a-6e2dd226d69e",
   "metadata": {},
   "source": [
    "### Assignment 3 - Store DB Checkpoint, due Weds Nov 16 by midnight\n",
    "\n",
    "Once you have built the database and loaded the first month of sales, write some SQL queries to answer the following questions.\n",
    "\n",
    "If you want to make sure your answers are correct, note that you could also check these things directly from the CSV file using pandas.  Just make sure that the answers you include here are the output of SQL queries run against your database!"
   ]
  },
  {
   "cell_type": "code",
   "execution_count": 31,
   "id": "8000fb29-6ab9-4673-9038-3bf184979053",
   "metadata": {},
   "outputs": [],
   "source": [
    "import pandas as pd\n",
    "import sqlite3"
   ]
  },
  {
   "cell_type": "code",
   "execution_count": 32,
   "id": "43c049cf-6303-4dae-937a-e748818d8373",
   "metadata": {},
   "outputs": [],
   "source": [
    "conn = sqlite3.connect('store.db')\n",
    "curs = conn.cursor()"
   ]
  },
  {
   "cell_type": "markdown",
   "id": "7edb3886-9725-4ec4-bb78-a6b834f6c5cb",
   "metadata": {},
   "source": [
    "1) How many total customers are in the database?"
   ]
  },
  {
   "cell_type": "code",
   "execution_count": 33,
   "id": "4fb9e311-9097-455f-a144-3c80eb42e0cb",
   "metadata": {},
   "outputs": [
    {
     "data": {
      "text/html": [
       "<div>\n",
       "<style scoped>\n",
       "    .dataframe tbody tr th:only-of-type {\n",
       "        vertical-align: middle;\n",
       "    }\n",
       "\n",
       "    .dataframe tbody tr th {\n",
       "        vertical-align: top;\n",
       "    }\n",
       "\n",
       "    .dataframe thead th {\n",
       "        text-align: right;\n",
       "    }\n",
       "</style>\n",
       "<table border=\"1\" class=\"dataframe\">\n",
       "  <thead>\n",
       "    <tr style=\"text-align: right;\">\n",
       "      <th></th>\n",
       "      <th>count(*)</th>\n",
       "    </tr>\n",
       "  </thead>\n",
       "  <tbody>\n",
       "    <tr>\n",
       "      <th>0</th>\n",
       "      <td>135</td>\n",
       "    </tr>\n",
       "  </tbody>\n",
       "</table>\n",
       "</div>"
      ],
      "text/plain": [
       "   count(*)\n",
       "0       135"
      ]
     },
     "execution_count": 33,
     "metadata": {},
     "output_type": "execute_result"
    }
   ],
   "source": [
    "pd.read_sql('''\n",
    "SELECT count(*)\n",
    "FROM tCust\n",
    ";''',conn)"
   ]
  },
  {
   "cell_type": "markdown",
   "id": "2cf41295-a81a-41e6-9e97-993b2cdf69ac",
   "metadata": {},
   "source": [
    "2. How many total orders in the database?"
   ]
  },
  {
   "cell_type": "code",
   "execution_count": 34,
   "id": "5cde28aa-7ba2-47e2-8106-be56bf14f1f2",
   "metadata": {},
   "outputs": [
    {
     "data": {
      "text/html": [
       "<div>\n",
       "<style scoped>\n",
       "    .dataframe tbody tr th:only-of-type {\n",
       "        vertical-align: middle;\n",
       "    }\n",
       "\n",
       "    .dataframe tbody tr th {\n",
       "        vertical-align: top;\n",
       "    }\n",
       "\n",
       "    .dataframe thead th {\n",
       "        text-align: right;\n",
       "    }\n",
       "</style>\n",
       "<table border=\"1\" class=\"dataframe\">\n",
       "  <thead>\n",
       "    <tr style=\"text-align: right;\">\n",
       "      <th></th>\n",
       "      <th>total_Orders</th>\n",
       "    </tr>\n",
       "  </thead>\n",
       "  <tbody>\n",
       "    <tr>\n",
       "      <th>0</th>\n",
       "      <td>171</td>\n",
       "    </tr>\n",
       "  </tbody>\n",
       "</table>\n",
       "</div>"
      ],
      "text/plain": [
       "   total_Orders\n",
       "0           171"
      ]
     },
     "execution_count": 34,
     "metadata": {},
     "output_type": "execute_result"
    }
   ],
   "source": [
    "pd.read_sql('''\n",
    "SELECT MAX(order_id) as total_Orders\n",
    "FROM tOrderDetail\n",
    ";''',conn)"
   ]
  },
  {
   "cell_type": "markdown",
   "id": "1e7ab298-5529-42d8-bf9f-eeda2b36ceac",
   "metadata": {},
   "source": [
    "3. How many total order lines (i.e., records on tOrderDetail) in the database?"
   ]
  },
  {
   "cell_type": "code",
   "execution_count": 35,
   "id": "b9094996-3f88-40fb-9bbd-7d295e3dc6dd",
   "metadata": {},
   "outputs": [
    {
     "data": {
      "text/html": [
       "<div>\n",
       "<style scoped>\n",
       "    .dataframe tbody tr th:only-of-type {\n",
       "        vertical-align: middle;\n",
       "    }\n",
       "\n",
       "    .dataframe tbody tr th {\n",
       "        vertical-align: top;\n",
       "    }\n",
       "\n",
       "    .dataframe thead th {\n",
       "        text-align: right;\n",
       "    }\n",
       "</style>\n",
       "<table border=\"1\" class=\"dataframe\">\n",
       "  <thead>\n",
       "    <tr style=\"text-align: right;\">\n",
       "      <th></th>\n",
       "      <th>count(*)</th>\n",
       "    </tr>\n",
       "  </thead>\n",
       "  <tbody>\n",
       "    <tr>\n",
       "      <th>0</th>\n",
       "      <td>601</td>\n",
       "    </tr>\n",
       "  </tbody>\n",
       "</table>\n",
       "</div>"
      ],
      "text/plain": [
       "   count(*)\n",
       "0       601"
      ]
     },
     "execution_count": 35,
     "metadata": {},
     "output_type": "execute_result"
    }
   ],
   "source": [
    "pd.read_sql('''\n",
    "SELECT count(*) \n",
    "FROM tOrderDetail\n",
    ";''',conn)"
   ]
  },
  {
   "cell_type": "markdown",
   "id": "17c1cfc4-1af9-40d2-808b-9eff914d21a8",
   "metadata": {},
   "source": [
    "4. What are our total sales (sum of qty * unit price) so far?"
   ]
  },
  {
   "cell_type": "code",
   "execution_count": 37,
   "id": "8a34fbb8-c8b8-402a-873f-2cc885655222",
   "metadata": {},
   "outputs": [
    {
     "data": {
      "text/html": [
       "<div>\n",
       "<style scoped>\n",
       "    .dataframe tbody tr th:only-of-type {\n",
       "        vertical-align: middle;\n",
       "    }\n",
       "\n",
       "    .dataframe tbody tr th {\n",
       "        vertical-align: top;\n",
       "    }\n",
       "\n",
       "    .dataframe thead th {\n",
       "        text-align: right;\n",
       "    }\n",
       "</style>\n",
       "<table border=\"1\" class=\"dataframe\">\n",
       "  <thead>\n",
       "    <tr style=\"text-align: right;\">\n",
       "      <th></th>\n",
       "      <th>sales</th>\n",
       "    </tr>\n",
       "  </thead>\n",
       "  <tbody>\n",
       "    <tr>\n",
       "      <th>0</th>\n",
       "      <td>124024.93</td>\n",
       "    </tr>\n",
       "  </tbody>\n",
       "</table>\n",
       "</div>"
      ],
      "text/plain": [
       "       sales\n",
       "0  124024.93"
      ]
     },
     "execution_count": 37,
     "metadata": {},
     "output_type": "execute_result"
    }
   ],
   "source": [
    "pd.read_sql('''\n",
    "SELECT sum(qty*unit_price) as sales\n",
    "FROM tOrderDetail\n",
    "JOIN tProd\n",
    "USING(prod_id)\n",
    ";''',conn)"
   ]
  },
  {
   "cell_type": "markdown",
   "id": "8233b541-30e2-420f-a562-0b87d444cfeb",
   "metadata": {},
   "source": [
    "5. What is our top selling product (in terms of total quantity sold)?"
   ]
  },
  {
   "cell_type": "code",
   "execution_count": 38,
   "id": "bb034e4f-eec2-4905-a7a9-d0688de79c61",
   "metadata": {},
   "outputs": [
    {
     "data": {
      "text/html": [
       "<div>\n",
       "<style scoped>\n",
       "    .dataframe tbody tr th:only-of-type {\n",
       "        vertical-align: middle;\n",
       "    }\n",
       "\n",
       "    .dataframe tbody tr th {\n",
       "        vertical-align: top;\n",
       "    }\n",
       "\n",
       "    .dataframe thead th {\n",
       "        text-align: right;\n",
       "    }\n",
       "</style>\n",
       "<table border=\"1\" class=\"dataframe\">\n",
       "  <thead>\n",
       "    <tr style=\"text-align: right;\">\n",
       "      <th></th>\n",
       "      <th>prod_desc</th>\n",
       "      <th>Total_Sold</th>\n",
       "    </tr>\n",
       "  </thead>\n",
       "  <tbody>\n",
       "    <tr>\n",
       "      <th>0</th>\n",
       "      <td>Bolt</td>\n",
       "      <td>155</td>\n",
       "    </tr>\n",
       "  </tbody>\n",
       "</table>\n",
       "</div>"
      ],
      "text/plain": [
       "  prod_desc  Total_Sold\n",
       "0      Bolt         155"
      ]
     },
     "execution_count": 38,
     "metadata": {},
     "output_type": "execute_result"
    }
   ],
   "source": [
    "pd.read_sql('''\n",
    "SELECT prod_desc,Total_sold\n",
    "FROM(\n",
    "    SELECT max(Total_Sold) as top_selling_product, prod_id,Total_Sold\n",
    "    FROM(\n",
    "        SELECT sum(qty) as Total_Sold,prod_id\n",
    "        FROM tOrderDetail\n",
    "        GROUP BY prod_id\n",
    "        )\n",
    "    )\n",
    "JOIN tProd\n",
    "USING(Prod_id)\n",
    ";''',conn)"
   ]
  },
  {
   "cell_type": "code",
   "execution_count": 39,
   "id": "d05dafe9-9a6a-44c8-bcc2-4f698099afff",
   "metadata": {},
   "outputs": [],
   "source": [
    "conn.close()"
   ]
  },
  {
   "cell_type": "code",
   "execution_count": null,
   "id": "30da2496-86ce-49c9-9333-bb5fe6335eec",
   "metadata": {},
   "outputs": [],
   "source": []
  }
 ],
 "metadata": {
  "kernelspec": {
   "display_name": "Python 3 (ipykernel)",
   "language": "python",
   "name": "python3"
  },
  "language_info": {
   "codemirror_mode": {
    "name": "ipython",
    "version": 3
   },
   "file_extension": ".py",
   "mimetype": "text/x-python",
   "name": "python",
   "nbconvert_exporter": "python",
   "pygments_lexer": "ipython3",
   "version": "3.10.8"
  }
 },
 "nbformat": 4,
 "nbformat_minor": 5
}
